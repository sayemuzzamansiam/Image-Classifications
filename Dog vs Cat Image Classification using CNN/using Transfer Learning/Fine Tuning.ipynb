{
 "cells": [
  {
   "cell_type": "markdown",
   "id": "2dfb671f",
   "metadata": {
    "papermill": {
     "duration": 0.365546,
     "end_time": "2025-03-23T22:44:00.708504",
     "exception": false,
     "start_time": "2025-03-23T22:44:00.342958",
     "status": "completed"
    },
    "tags": []
   },
   "source": [
    "# Fine Tuning"
   ]
  },
  {
   "cell_type": "code",
   "execution_count": 11,
   "id": "6fc04bba",
   "metadata": {
    "execution": {
     "iopub.execute_input": "2025-03-23T22:44:01.508978Z",
     "iopub.status.busy": "2025-03-23T22:44:01.508631Z",
     "iopub.status.idle": "2025-03-23T22:44:01.516634Z",
     "shell.execute_reply": "2025-03-23T22:44:01.515692Z"
    },
    "papermill": {
     "duration": 0.381233,
     "end_time": "2025-03-23T22:44:01.517951",
     "exception": false,
     "start_time": "2025-03-23T22:44:01.136718",
     "status": "completed"
    },
    "tags": []
   },
   "outputs": [],
   "source": [
    "\"\"\"Now let's do some fine tunning\"\"\"\n",
    "\n",
    "# unfreeze top layers of basae model\n",
    "base_model.trainable = True\n",
    "for layer in base_model.layers[:100]:\n",
    "    layer.trainable = False\n",
    "\n"
   ]
  },
  {
   "cell_type": "code",
   "execution_count": 12,
   "id": "7e604d5d",
   "metadata": {
    "execution": {
     "iopub.execute_input": "2025-03-23T22:44:02.302017Z",
     "iopub.status.busy": "2025-03-23T22:44:02.301643Z",
     "iopub.status.idle": "2025-03-23T22:44:02.311210Z",
     "shell.execute_reply": "2025-03-23T22:44:02.310164Z"
    },
    "papermill": {
     "duration": 0.423948,
     "end_time": "2025-03-23T22:44:02.312877",
     "exception": false,
     "start_time": "2025-03-23T22:44:01.888929",
     "status": "completed"
    },
    "tags": []
   },
   "outputs": [],
   "source": [
    "# recompile the model \n",
    "\n",
    "model.compile(\n",
    "    optimizer = Adam(learning_rate = 1e-5),\n",
    "    loss = 'binary_crossentropy',\n",
    "    metrics = ['accuracy']\n",
    ")"
   ]
  },
  {
   "cell_type": "code",
   "execution_count": 13,
   "id": "11443250",
   "metadata": {
    "execution": {
     "iopub.execute_input": "2025-03-23T22:44:03.063173Z",
     "iopub.status.busy": "2025-03-23T22:44:03.062656Z",
     "iopub.status.idle": "2025-03-23T22:48:41.169903Z",
     "shell.execute_reply": "2025-03-23T22:48:41.169006Z"
    },
    "papermill": {
     "duration": 279.001326,
     "end_time": "2025-03-23T22:48:41.691575",
     "exception": false,
     "start_time": "2025-03-23T22:44:02.690249",
     "status": "completed"
    },
    "tags": []
   },
   "outputs": [
    {
     "name": "stdout",
     "output_type": "stream",
     "text": [
      "Epoch 1/5\n",
      "\u001b[1m500/500\u001b[0m \u001b[32m━━━━━━━━━━━━━━━━━━━━\u001b[0m\u001b[37m\u001b[0m \u001b[1m68s\u001b[0m 108ms/step - accuracy: 0.8682 - loss: 0.2941 - val_accuracy: 0.9852 - val_loss: 0.0415\n",
      "Epoch 2/5\n",
      "\u001b[1m500/500\u001b[0m \u001b[32m━━━━━━━━━━━━━━━━━━━━\u001b[0m\u001b[37m\u001b[0m \u001b[1m53s\u001b[0m 105ms/step - accuracy: 0.9281 - loss: 0.1774 - val_accuracy: 0.9855 - val_loss: 0.0407\n",
      "Epoch 3/5\n",
      "\u001b[1m500/500\u001b[0m \u001b[32m━━━━━━━━━━━━━━━━━━━━\u001b[0m\u001b[37m\u001b[0m \u001b[1m52s\u001b[0m 105ms/step - accuracy: 0.9362 - loss: 0.1534 - val_accuracy: 0.9852 - val_loss: 0.0435\n",
      "Epoch 4/5\n",
      "\u001b[1m500/500\u001b[0m \u001b[32m━━━━━━━━━━━━━━━━━━━━\u001b[0m\u001b[37m\u001b[0m \u001b[1m52s\u001b[0m 105ms/step - accuracy: 0.9439 - loss: 0.1371 - val_accuracy: 0.9843 - val_loss: 0.0446\n",
      "Epoch 5/5\n",
      "\u001b[1m500/500\u001b[0m \u001b[32m━━━━━━━━━━━━━━━━━━━━\u001b[0m\u001b[37m\u001b[0m \u001b[1m52s\u001b[0m 105ms/step - accuracy: 0.9518 - loss: 0.1238 - val_accuracy: 0.9825 - val_loss: 0.0462\n"
     ]
    }
   ],
   "source": [
    "history_fine = model.fit(\n",
    "    train_data,\n",
    "    epochs =5,\n",
    "    validation_data = val_data,\n",
    "    verbose = 1\n",
    ")"
   ]
  },
  {
   "cell_type": "code",
   "execution_count": 18,
   "id": "a7af47f4",
   "metadata": {
    "execution": {
     "iopub.execute_input": "2025-03-23T22:49:13.327699Z",
     "iopub.status.busy": "2025-03-23T22:49:13.327402Z",
     "iopub.status.idle": "2025-03-23T22:49:13.491701Z",
     "shell.execute_reply": "2025-03-23T22:49:13.490782Z"
    },
    "papermill": {
     "duration": 0.671178,
     "end_time": "2025-03-23T22:49:13.493079",
     "exception": false,
     "start_time": "2025-03-23T22:49:12.821901",
     "status": "completed"
    },
    "tags": []
   },
   "outputs": [
    {
     "data": {
      "text/plain": [
       "[<matplotlib.lines.Line2D at 0x784045e66080>]"
      ]
     },
     "execution_count": 18,
     "metadata": {},
     "output_type": "execute_result"
    },
    {
     "data": {
      "image/png": "[encoded data removed]",
      "text/plain": [
       "<Figure size 640x480 with 1 Axes>"
      ]
     },
     "metadata": {},
     "output_type": "display_data"
    }
   ],
   "source": [
    "\"\"\"let's see this new  training\"\"\"\n",
    "plt.plot(history_fine.history['accuracy'], label = 'Fine Acc')\n",
    "plt.plot(history_fine.history['val_accuracy'], label = 'val Acc')\n"
   ]
  },
  {
   "cell_type": "code",
   "execution_count": null,
   "id": "c936324b",
   "metadata": {
    "papermill": {
     "duration": 0.564242,
     "end_time": "2025-03-23T22:49:14.574519",
     "exception": false,
     "start_time": "2025-03-23T22:49:14.010277",
     "status": "completed"
    },
    "tags": []
   },
   "outputs": [],
   "source": []
  }
 ],
 "metadata": {
  "kaggle": {
   "accelerator": "nvidiaTeslaT4",
   "dataSources": [
    {
     "datasetId": 84954,
     "sourceId": 196452,
     "sourceType": "datasetVersion"
    }
   ],
   "dockerImageVersionId": 30919,
   "isGpuEnabled": true,
   "isInternetEnabled": true,
   "language": "python",
   "sourceType": "notebook"
  },
  "kernelspec": {
   "display_name": "Python 3",
   "language": "python",
   "name": "python3"
  },
  "language_info": {
   "codemirror_mode": {
    "name": "ipython",
    "version": 3
   },
   "file_extension": ".py",
   "mimetype": "text/x-python",
   "name": "python",
   "nbconvert_exporter": "python",
   "pygments_lexer": "ipython3",
   "version": "3.10.12"
  },
  "papermill": {
   "default_parameters": {},
   "duration": 941.118602,
   "end_time": "2025-03-23T22:49:18.139041",
   "environment_variables": {},
   "exception": null,
   "input_path": "__notebook__.ipynb",
   "output_path": "__notebook__.ipynb",
   "parameters": {},
   "start_time": "2025-03-23T22:33:37.020439",
   "version": "2.6.0"
  }
 },
 "nbformat": 4,
 "nbformat_minor": 5
}
