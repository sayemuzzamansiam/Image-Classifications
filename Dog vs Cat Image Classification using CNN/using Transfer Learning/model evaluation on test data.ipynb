{
 "cells": [
  {
   "cell_type": "markdown",
   "id": "f42059bd",
   "metadata": {},
   "source": [
    "# Mode Evaluation"
   ]
  },
  {
   "cell_type": "code",
   "execution_count": 14,
   "id": "9e5c3f58",
   "metadata": {
    "execution": {
     "iopub.execute_input": "2025-03-23T22:48:42.677921Z",
     "iopub.status.busy": "2025-03-23T22:48:42.677602Z",
     "iopub.status.idle": "2025-03-23T22:48:53.940702Z",
     "shell.execute_reply": "2025-03-23T22:48:53.940037Z"
    },
    "papermill": {
     "duration": 11.779129,
     "end_time": "2025-03-23T22:48:53.942104",
     "exception": false,
     "start_time": "2025-03-23T22:48:42.162975",
     "status": "completed"
    },
    "tags": []
   },
   "outputs": [
    {
     "name": "stdout",
     "output_type": "stream",
     "text": [
      "Found 5000 files belonging to 2 classes.\n"
     ]
    }
   ],
   "source": [
    "\"\"\"Test Evaluation\"\"\"\n",
    "test_data = image_dataset_from_directory(\n",
    "    directory = test_dir,\n",
    "    labels = 'inferred',\n",
    "    label_mode = 'binary',\n",
    "    image_size = (224,224),\n",
    "    batch_size = 32\n",
    ").map(norm)"
   ]
  },
  {
   "cell_type": "code",
   "execution_count": 15,
   "id": "6921729c",
   "metadata": {
    "execution": {
     "iopub.execute_input": "2025-03-23T22:48:54.932066Z",
     "iopub.status.busy": "2025-03-23T22:48:54.931758Z",
     "iopub.status.idle": "2025-03-23T22:49:07.458333Z",
     "shell.execute_reply": "2025-03-23T22:49:07.457457Z"
    },
    "papermill": {
     "duration": 13.046933,
     "end_time": "2025-03-23T22:49:07.459748",
     "exception": false,
     "start_time": "2025-03-23T22:48:54.412815",
     "status": "completed"
    },
    "tags": []
   },
   "outputs": [
    {
     "name": "stdout",
     "output_type": "stream",
     "text": [
      "\u001b[1m157/157\u001b[0m \u001b[32m━━━━━━━━━━━━━━━━━━━━\u001b[0m\u001b[37m\u001b[0m \u001b[1m13s\u001b[0m 79ms/step - accuracy: 0.9806 - loss: 0.0537\n",
      "\n",
      "Test Accuracy: 98.08%\n",
      "Test LOSS: 0.05284\n"
     ]
    }
   ],
   "source": [
    "# evaluate model\n",
    "test_loss, test_acc = model.evaluate(test_data)\n",
    "\n",
    "print(f\"\\nTest Accuracy: {test_acc:.2%}\")\n",
    "print(f\"Test LOSS: {test_loss:.5f}\")"
   ]
  }
 ],
 "metadata": {
  "kaggle": {
   "accelerator": "nvidiaTeslaT4",
   "dataSources": [
    {
     "datasetId": 84954,
     "sourceId": 196452,
     "sourceType": "datasetVersion"
    }
   ],
   "dockerImageVersionId": 30919,
   "isGpuEnabled": true,
   "isInternetEnabled": true,
   "language": "python",
   "sourceType": "notebook"
  },
  "kernelspec": {
   "display_name": "Python 3",
   "language": "python",
   "name": "python3"
  },
  "language_info": {
   "codemirror_mode": {
    "name": "ipython",
    "version": 3
   },
   "file_extension": ".py",
   "mimetype": "text/x-python",
   "name": "python",
   "nbconvert_exporter": "python",
   "pygments_lexer": "ipython3",
   "version": "3.10.12"
  },
  "papermill": {
   "default_parameters": {},
   "duration": 941.118602,
   "end_time": "2025-03-23T22:49:18.139041",
   "environment_variables": {},
   "exception": null,
   "input_path": "__notebook__.ipynb",
   "output_path": "__notebook__.ipynb",
   "parameters": {},
   "start_time": "2025-03-23T22:33:37.020439",
   "version": "2.6.0"
  }
 },
 "nbformat": 4,
 "nbformat_minor": 5
}
