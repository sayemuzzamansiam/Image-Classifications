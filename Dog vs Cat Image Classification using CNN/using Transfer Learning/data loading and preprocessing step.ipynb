{
 "cells": [
  {
   "cell_type": "markdown",
   "id": "e00b3600",
   "metadata": {},
   "source": [
    "# Now we will use Transfer Learning - for this classification task we will be using MobileNetV2 model"
   ]
  },
  {
   "cell_type": "code",
   "execution_count": 1,
   "id": "307405df",
   "metadata": {
    "_cell_guid": "b1076dfc-b9ad-4769-8c92-a6c4dae69d19",
    "_uuid": "8f2839f25d086af736a60e9eeb907d3b93b6e0e5",
    "execution": {
     "iopub.execute_input": "2025-03-23T22:33:40.866264Z",
     "iopub.status.busy": "2025-03-23T22:33:40.865847Z",
     "iopub.status.idle": "2025-03-23T22:34:01.966275Z",
     "shell.execute_reply": "2025-03-23T22:34:01.965401Z"
    },
    "papermill": {
     "duration": 21.107953,
     "end_time": "2025-03-23T22:34:01.968016",
     "exception": false,
     "start_time": "2025-03-23T22:33:40.860063",
     "status": "completed"
    },
    "tags": []
   },
   "outputs": [],
   "source": [
    "# libraries\n",
    "import os\n",
    "import numpy as np\n",
    "\n",
    "import tensorflow as tf\n",
    "from tensorflow import keras\n",
    "\n",
    "from tensorflow.keras import Sequential \n",
    "from tensorflow.keras.layers import Dense, GlobalAveragePooling2D, Dropout,RandomFlip,RandomRotation, RandomZoom\n",
    "from tensorflow.keras.applications import MobileNetV2\n",
    "from tensorflow.keras.optimizers import Adam\n",
    "\n",
    "from tensorflow.keras.utils import image_dataset_from_directory\n",
    "\n",
    "import matplotlib.pyplot as plt\n",
    "from PIL import Image\n",
    "import random\n"
   ]
  },
  {
   "cell_type": "code",
   "execution_count": 2,
   "id": "27214416",
   "metadata": {
    "execution": {
     "iopub.execute_input": "2025-03-23T22:34:01.977318Z",
     "iopub.status.busy": "2025-03-23T22:34:01.976857Z",
     "iopub.status.idle": "2025-03-23T22:34:01.980594Z",
     "shell.execute_reply": "2025-03-23T22:34:01.979911Z"
    },
    "papermill": {
     "duration": 0.009426,
     "end_time": "2025-03-23T22:34:01.981840",
     "exception": false,
     "start_time": "2025-03-23T22:34:01.972414",
     "status": "completed"
    },
    "tags": []
   },
   "outputs": [],
   "source": [
    "\"\"\"DIRS\"\"\"\n",
    "train_dir = \"/kaggle/input/dogs-vs-cats/train\"\n",
    "test_dir = \"/kaggle/input/dogs-vs-cats/test\""
   ]
  },
  {
   "cell_type": "markdown",
   "id": "262e638a",
   "metadata": {
    "papermill": {
     "duration": 0.003774,
     "end_time": "2025-03-23T22:34:01.989356",
     "exception": false,
     "start_time": "2025-03-23T22:34:01.985582",
     "status": "completed"
    },
    "tags": []
   },
   "source": [
    "# Data Loading and Preprocessing"
   ]
  },
  {
   "cell_type": "code",
   "execution_count": 3,
   "id": "2f5c8726",
   "metadata": {
    "execution": {
     "iopub.execute_input": "2025-03-23T22:34:01.997398Z",
     "iopub.status.busy": "2025-03-23T22:34:01.997160Z",
     "iopub.status.idle": "2025-03-23T22:34:02.000371Z",
     "shell.execute_reply": "2025-03-23T22:34:01.999786Z"
    },
    "papermill": {
     "duration": 0.008521,
     "end_time": "2025-03-23T22:34:02.001524",
     "exception": false,
     "start_time": "2025-03-23T22:34:01.993003",
     "status": "completed"
    },
    "tags": []
   },
   "outputs": [],
   "source": [
    "def norm(image,label):\n",
    "    image = tf.cast(image,tf.float32)\n",
    "    image = (image/127.5) - 1.0\n",
    "    return image, label"
   ]
  },
  {
   "cell_type": "code",
   "execution_count": 4,
   "id": "693846b1",
   "metadata": {
    "execution": {
     "iopub.execute_input": "2025-03-23T22:34:02.009937Z",
     "iopub.status.busy": "2025-03-23T22:34:02.009734Z",
     "iopub.status.idle": "2025-03-23T22:35:01.904962Z",
     "shell.execute_reply": "2025-03-23T22:35:01.904294Z"
    },
    "papermill": {
     "duration": 59.901189,
     "end_time": "2025-03-23T22:35:01.906399",
     "exception": false,
     "start_time": "2025-03-23T22:34:02.005210",
     "status": "completed"
    },
    "tags": []
   },
   "outputs": [
    {
     "name": "stdout",
     "output_type": "stream",
     "text": [
      "Found 20000 files belonging to 2 classes.\n",
      "Using 16000 files for training.\n",
      "Found 20000 files belonging to 2 classes.\n",
      "Using 4000 files for validation.\n"
     ]
    }
   ],
   "source": [
    "# load train data with augmentation \n",
    "\n",
    "train_data = image_dataset_from_directory(\n",
    "    directory = train_dir,\n",
    "    labels = 'inferred',\n",
    "    label_mode = 'binary',\n",
    "    image_size = (224,224),\n",
    "    batch_size = 32,\n",
    "    validation_split = 0.2,\n",
    "    subset = 'training',\n",
    "    seed = 123\n",
    "    \n",
    ").map(norm).prefetch(buffer_size= tf.data.AUTOTUNE)\n",
    "\n",
    "# LOAD validation\n",
    "\n",
    "val_data = image_dataset_from_directory(\n",
    "    directory = train_dir,\n",
    "    labels = 'inferred',\n",
    "    label_mode = 'binary',\n",
    "    image_size = (224,224),\n",
    "    batch_size= 32,\n",
    "    validation_split = 0.2,\n",
    "    subset = 'validation',\n",
    "    seed = 123\n",
    ").map(norm).prefetch(buffer_size=tf.data.AUTOTUNE)\n",
    "\n",
    "\n",
    "\n"
   ]
  }
 ],
 "metadata": {
  "kaggle": {
   "accelerator": "nvidiaTeslaT4",
   "dataSources": [
    {
     "datasetId": 84954,
     "sourceId": 196452,
     "sourceType": "datasetVersion"
    }
   ],
   "dockerImageVersionId": 30919,
   "isGpuEnabled": true,
   "isInternetEnabled": true,
   "language": "python",
   "sourceType": "notebook"
  },
  "kernelspec": {
   "display_name": "Python 3",
   "language": "python",
   "name": "python3"
  },
  "language_info": {
   "codemirror_mode": {
    "name": "ipython",
    "version": 3
   },
   "file_extension": ".py",
   "mimetype": "text/x-python",
   "name": "python",
   "nbconvert_exporter": "python",
   "pygments_lexer": "ipython3",
   "version": "3.10.12"
  },
  "papermill": {
   "default_parameters": {},
   "duration": 941.118602,
   "end_time": "2025-03-23T22:49:18.139041",
   "environment_variables": {},
   "exception": null,
   "input_path": "__notebook__.ipynb",
   "output_path": "__notebook__.ipynb",
   "parameters": {},
   "start_time": "2025-03-23T22:33:37.020439",
   "version": "2.6.0"
  }
 },
 "nbformat": 4,
 "nbformat_minor": 5
}
